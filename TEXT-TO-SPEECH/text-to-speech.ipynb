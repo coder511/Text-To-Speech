{
 "cells": [
  {
   "cell_type": "markdown",
   "id": "0b7dabdc",
   "metadata": {},
   "source": [
    "## Install Dependencies\n"
   ]
  },
  {
   "cell_type": "code",
   "execution_count": 1,
   "id": "35329b68",
   "metadata": {},
   "outputs": [
    {
     "name": "stdout",
     "output_type": "stream",
     "text": [
      "Collecting ibm_watson\n",
      "  Downloading ibm-watson-6.0.0.tar.gz (338 kB)\n",
      "     -------------------------------------- 338.4/338.4 kB 2.1 MB/s eta 0:00:00\n",
      "  Installing build dependencies: started\n",
      "  Installing build dependencies: finished with status 'done'\n",
      "  Getting requirements to build wheel: started\n",
      "  Getting requirements to build wheel: finished with status 'done'\n",
      "  Preparing metadata (pyproject.toml): started\n",
      "  Preparing metadata (pyproject.toml): finished with status 'done'\n",
      "Collecting ibm-cloud-sdk-core==3.*,>=3.3.6\n",
      "  Downloading ibm-cloud-sdk-core-3.15.2.tar.gz (50 kB)\n",
      "     ---------------------------------------- 50.9/50.9 kB 2.5 MB/s eta 0:00:00\n",
      "  Preparing metadata (setup.py): started\n",
      "  Preparing metadata (setup.py): finished with status 'done'\n",
      "Requirement already satisfied: requests<3.0,>=2.0 in c:\\users\\vanshika\\appdata\\local\\programs\\python\\python310\\lib\\site-packages (from ibm_watson) (2.27.1)\n",
      "Collecting websocket-client==1.1.0\n",
      "  Downloading websocket_client-1.1.0-py2.py3-none-any.whl (68 kB)\n",
      "     -------------------------------------- 68.7/68.7 kB 750.0 kB/s eta 0:00:00\n",
      "Requirement already satisfied: python-dateutil>=2.5.3 in c:\\users\\vanshika\\appdata\\local\\programs\\python\\python310\\lib\\site-packages (from ibm_watson) (2.8.2)\n",
      "Requirement already satisfied: urllib3<2.0.0,>=1.26.0 in c:\\users\\vanshika\\appdata\\local\\programs\\python\\python310\\lib\\site-packages (from ibm-cloud-sdk-core==3.*,>=3.3.6->ibm_watson) (1.26.8)\n",
      "Collecting PyJWT<3.0.0,>=2.4.0\n",
      "  Downloading PyJWT-2.4.0-py3-none-any.whl (18 kB)\n",
      "Requirement already satisfied: six>=1.5 in c:\\users\\vanshika\\appdata\\local\\programs\\python\\python310\\lib\\site-packages (from python-dateutil>=2.5.3->ibm_watson) (1.16.0)\n",
      "Requirement already satisfied: charset-normalizer~=2.0.0 in c:\\users\\vanshika\\appdata\\local\\programs\\python\\python310\\lib\\site-packages (from requests<3.0,>=2.0->ibm_watson) (2.0.12)\n",
      "Requirement already satisfied: idna<4,>=2.5 in c:\\users\\vanshika\\appdata\\local\\programs\\python\\python310\\lib\\site-packages (from requests<3.0,>=2.0->ibm_watson) (3.3)\n",
      "Requirement already satisfied: certifi>=2017.4.17 in c:\\users\\vanshika\\appdata\\local\\programs\\python\\python310\\lib\\site-packages (from requests<3.0,>=2.0->ibm_watson) (2021.10.8)\n",
      "Building wheels for collected packages: ibm_watson, ibm-cloud-sdk-core\n",
      "  Building wheel for ibm_watson (pyproject.toml): started\n",
      "  Building wheel for ibm_watson (pyproject.toml): finished with status 'done'\n",
      "  Created wheel for ibm_watson: filename=ibm_watson-6.0.0-py3-none-any.whl size=336791 sha256=9ac883512052a6ac66c26455fabcef370e1021c0b3597a625e8ea8e480c184ed\n",
      "  Stored in directory: c:\\users\\vanshika\\appdata\\local\\pip\\cache\\wheels\\21\\e1\\b2\\14016683674d553bd30e47bcd9ee6cbe37d0fc3b9b7f6ab768\n",
      "  Building wheel for ibm-cloud-sdk-core (setup.py): started\n",
      "  Building wheel for ibm-cloud-sdk-core (setup.py): finished with status 'done'\n",
      "  Created wheel for ibm-cloud-sdk-core: filename=ibm_cloud_sdk_core-3.15.2-py3-none-any.whl size=83646 sha256=f6f496a481632d287bef7e61999e356256f76cbf5c6b14c082a162f4b199be52\n",
      "  Stored in directory: c:\\users\\vanshika\\appdata\\local\\pip\\cache\\wheels\\14\\ae\\63\\44ba52bc41a2e9f256da624677c5282709ba1055f28e3bc59b\n",
      "Successfully built ibm_watson ibm-cloud-sdk-core\n",
      "Installing collected packages: websocket-client, PyJWT, ibm-cloud-sdk-core, ibm_watson\n",
      "  Attempting uninstall: websocket-client\n",
      "    Found existing installation: websocket-client 1.3.1\n",
      "    Uninstalling websocket-client-1.3.1:\n",
      "      Successfully uninstalled websocket-client-1.3.1\n",
      "Successfully installed PyJWT-2.4.0 ibm-cloud-sdk-core-3.15.2 ibm_watson-6.0.0 websocket-client-1.1.0\n"
     ]
    },
    {
     "name": "stderr",
     "output_type": "stream",
     "text": [
      "WARNING: There was an error checking the latest version of pip.\n"
     ]
    }
   ],
   "source": [
    "!pip install ibm_watson"
   ]
  },
  {
   "cell_type": "markdown",
   "id": "a8e4dd31",
   "metadata": {},
   "source": [
    "## 1. Authenticate"
   ]
  },
  {
   "cell_type": "code",
   "execution_count": 8,
   "id": "5704c4e5",
   "metadata": {},
   "outputs": [],
   "source": [
    "from ibm_watson import TextToSpeechV1\n",
    "from ibm_cloud_sdk_core.authenticators import IAMAuthenticator"
   ]
  },
  {
   "cell_type": "code",
   "execution_count": 6,
   "id": "0561d44a",
   "metadata": {},
   "outputs": [],
   "source": [
    "apikey = 'ctfKSEcmie5vJ3riWfWpriXCv2in3S-11-l3zRJ5NwMm'\n",
    "url = 'https://api.eu-gb.text-to-speech.watson.cloud.ibm.com/instances/22194ac4-5479-469b-b829-0fb678845ee4'"
   ]
  },
  {
   "cell_type": "code",
   "execution_count": 7,
   "id": "83c4c253",
   "metadata": {},
   "outputs": [],
   "source": [
    "# Setup Service\n",
    "authenticator = IAMAuthenticator(apikey)\n",
    "#New TTS Service\n",
    "tts = TextToSpeechV1(authenticator=authenticator)\n",
    "#Set Service URL\n",
    "tts.set_service_url(url)"
   ]
  },
  {
   "cell_type": "markdown",
   "id": "580b200c",
   "metadata": {},
   "source": [
    "## 2. Convert with A Basic Language Model"
   ]
  },
  {
   "cell_type": "code",
   "execution_count": 9,
   "id": "4209ab1f",
   "metadata": {},
   "outputs": [],
   "source": [
    "with open('./speech.mp3', 'wb') as audio_file:\n",
    "    res = tts.synthesize('Hello World!', accept='audio/mp3', voice='en-US_AllisonV3Voice').get_result()\n",
    "    audio_file.write(res.content)"
   ]
  },
  {
   "cell_type": "markdown",
   "id": "1c59e8d8",
   "metadata": {},
   "source": [
    "## 3. Reading from a file "
   ]
  },
  {
   "cell_type": "code",
   "execution_count": 13,
   "id": "a118ea58",
   "metadata": {},
   "outputs": [],
   "source": [
    "with open('Document.txt', 'r') as f:\n",
    "    text = f.readlines()"
   ]
  },
  {
   "cell_type": "code",
   "execution_count": 14,
   "id": "7ea65288",
   "metadata": {},
   "outputs": [],
   "source": [
    "text = [line.replace('\\n','') for line in text]"
   ]
  },
  {
   "cell_type": "code",
   "execution_count": 15,
   "id": "88a7b5b5",
   "metadata": {},
   "outputs": [],
   "source": [
    "text = ''.join(str(line) for line in text)"
   ]
  },
  {
   "cell_type": "code",
   "execution_count": 17,
   "id": "c1a84c36",
   "metadata": {},
   "outputs": [],
   "source": [
    "with open('./texttospeech.mp3', 'wb') as audio_file:\n",
    "    res = tts.synthesize(text, accept='audio/mp3', voice='en-GB_JamesV3Voice').get_result()\n",
    "    audio_file.write(res.content)"
   ]
  },
  {
   "cell_type": "code",
   "execution_count": null,
   "id": "e19c6408",
   "metadata": {},
   "outputs": [],
   "source": [
    "  "
   ]
  }
 ],
 "metadata": {
  "kernelspec": {
   "display_name": "Python 3 (ipykernel)",
   "language": "python",
   "name": "python3"
  },
  "language_info": {
   "codemirror_mode": {
    "name": "ipython",
    "version": 3
   },
   "file_extension": ".py",
   "mimetype": "text/x-python",
   "name": "python",
   "nbconvert_exporter": "python",
   "pygments_lexer": "ipython3",
   "version": "3.10.4"
  }
 },
 "nbformat": 4,
 "nbformat_minor": 5
}
